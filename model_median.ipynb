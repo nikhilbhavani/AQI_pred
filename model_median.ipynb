{
 "cells": [
  {
   "cell_type": "code",
   "execution_count": 1,
   "metadata": {},
   "outputs": [],
   "source": [
    "import pandas as pd\n",
    "\n",
    "# importing Randomforest \n",
    "from sklearn.ensemble import AdaBoostRegressor \n",
    "from sklearn.ensemble import RandomForestRegressor\n",
    "from sklearn.model_selection import train_test_split"
   ]
  },
  {
   "cell_type": "code",
   "execution_count": 2,
   "metadata": {},
   "outputs": [],
   "source": [
    "df=pd.read_csv('data_na_median.csv')"
   ]
  },
  {
   "cell_type": "code",
   "execution_count": 3,
   "metadata": {},
   "outputs": [],
   "source": [
    "# separating class label and other attributes \n",
    "X = df.drop(['AQI'], axis=1) \n",
    "Y = df['AQI'] \n",
    "\n",
    "# Split the data\n",
    "X_train, X_test, y_train, y_test = train_test_split(X, Y, test_size=0.2, random_state=42)"
   ]
  },
  {
   "cell_type": "code",
   "execution_count": 4,
   "metadata": {},
   "outputs": [
    {
     "name": "stdout",
     "output_type": "stream",
     "text": [
      "Train score= 0.9812081611196157\n",
      "Test score= 0.878200248002854\n"
     ]
    }
   ],
   "source": [
    "m1= RandomForestRegressor()\n",
    "\n",
    "# Fitting the model \n",
    "m1.fit(X_train, y_train) \n",
    "'''RandomForestRegressor(bootstrap=True, ccp_alpha=0.0, criterion='mse', \n",
    "                      max_depth=None, max_features='auto', max_leaf_nodes=None, \n",
    "                      max_samples=None, min_impurity_decrease=0.0, \n",
    "                      min_impurity_split=None, min_samples_leaf=1, \n",
    "                      min_samples_split=2, min_weight_fraction_leaf=0.0,  \n",
    "                      n_estimators=100, n_jobs=None, oob_score=False, \n",
    "                      random_state=None, verbose=0, warm_start=False)'''\n",
    "  \n",
    "# calculating the score\n",
    "m1_train_score=m1.score(X_train,y_train)\n",
    "m1_test_score=m1.score(X_test,y_test)\n",
    "\n",
    "print(\"Train score=\", m1_train_score)\n",
    "print(\"Test score=\", m1_test_score)"
   ]
  },
  {
   "cell_type": "code",
   "execution_count": 5,
   "metadata": {},
   "outputs": [
    {
     "name": "stdout",
     "output_type": "stream",
     "text": [
      "Train score= -0.2033442240145482\n",
      "Test score= -0.32514759310511887\n"
     ]
    }
   ],
   "source": [
    "m2= AdaBoostRegressor()\n",
    "\n",
    "# Fitting the model \n",
    "m2.fit(X_train, y_train) \n",
    "  \n",
    "'''AdaBoostRegressor(base_estimator=None, learning_rate=1.0, loss='linear', \n",
    "                  n_estimators=50, random_state=None)'''\n",
    "  \n",
    "# calculating the score\n",
    "m2_train_score=m2.score(X_train,y_train)\n",
    "m2_test_score=m2.score(X_test,y_test)\n",
    "\n",
    "print(\"Train score=\", m2_train_score)\n",
    "print(\"Test score=\", m2_test_score)"
   ]
  }
 ],
 "metadata": {
  "kernelspec": {
   "display_name": "Python 3",
   "language": "python",
   "name": "python3"
  },
  "language_info": {
   "codemirror_mode": {
    "name": "ipython",
    "version": 3
   },
   "file_extension": ".py",
   "mimetype": "text/x-python",
   "name": "python",
   "nbconvert_exporter": "python",
   "pygments_lexer": "ipython3",
   "version": "3.11.9"
  }
 },
 "nbformat": 4,
 "nbformat_minor": 2
}
